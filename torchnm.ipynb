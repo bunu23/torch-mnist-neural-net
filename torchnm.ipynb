{
  "nbformat": 4,
  "nbformat_minor": 0,
  "metadata": {
    "colab": {
      "provenance": []
    },
    "kernelspec": {
      "name": "python3",
      "display_name": "Python 3"
    },
    "language_info": {
      "name": "python"
    }
  },
  "cells": [
    {
      "cell_type": "code",
      "execution_count": 3,
      "metadata": {
        "id": "G-FxhrQiv5gI"
      },
      "outputs": [],
      "source": [
        "import torch\n",
        "import torch.nn as nn\n",
        "import torch.optim as optim\n",
        "import torch.nn.functional as F\n",
        "from torchvision import datasets, transforms\n",
        "from torch.utils.data import DataLoader\n"
      ]
    },
    {
      "cell_type": "code",
      "source": [
        "batch_size = 64\n",
        "learning_rate = 0.01\n",
        "num_epochs = 10\n"
      ],
      "metadata": {
        "id": "H4dcEytMxABc"
      },
      "execution_count": 4,
      "outputs": []
    },
    {
      "cell_type": "code",
      "source": [
        "transform = transforms.Compose([\n",
        "    transforms.ToTensor(),\n",
        "    transforms.Normalize((0.1307,), (0.3081,))\n",
        "])\n",
        "\n",
        "train_dataset = datasets.MNIST(root='./data', train=True, transform=transform, download=True)\n",
        "test_dataset = datasets.MNIST(root='./data', train=False, transform=transform, download=True)\n",
        "\n",
        "train_loader = DataLoader(dataset=train_dataset, batch_size=batch_size, shuffle=True)\n",
        "test_loader = DataLoader(dataset=test_dataset, batch_size=batch_size, shuffle=False)\n"
      ],
      "metadata": {
        "id": "IIVzQdjDw_9l",
        "colab": {
          "base_uri": "https://localhost:8080/"
        },
        "outputId": "333cfe0b-ad08-4d88-c7c9-3f802ed1cad9"
      },
      "execution_count": 5,
      "outputs": [
        {
          "output_type": "stream",
          "name": "stdout",
          "text": [
            "Downloading http://yann.lecun.com/exdb/mnist/train-images-idx3-ubyte.gz\n",
            "Failed to download (trying next):\n",
            "HTTP Error 403: Forbidden\n",
            "\n",
            "Downloading https://ossci-datasets.s3.amazonaws.com/mnist/train-images-idx3-ubyte.gz\n",
            "Downloading https://ossci-datasets.s3.amazonaws.com/mnist/train-images-idx3-ubyte.gz to ./data/MNIST/raw/train-images-idx3-ubyte.gz\n"
          ]
        },
        {
          "output_type": "stream",
          "name": "stderr",
          "text": [
            "100%|██████████| 9912422/9912422 [00:00<00:00, 36172168.09it/s]\n"
          ]
        },
        {
          "output_type": "stream",
          "name": "stdout",
          "text": [
            "Extracting ./data/MNIST/raw/train-images-idx3-ubyte.gz to ./data/MNIST/raw\n",
            "\n",
            "Downloading http://yann.lecun.com/exdb/mnist/train-labels-idx1-ubyte.gz\n",
            "Failed to download (trying next):\n",
            "HTTP Error 403: Forbidden\n",
            "\n",
            "Downloading https://ossci-datasets.s3.amazonaws.com/mnist/train-labels-idx1-ubyte.gz\n",
            "Downloading https://ossci-datasets.s3.amazonaws.com/mnist/train-labels-idx1-ubyte.gz to ./data/MNIST/raw/train-labels-idx1-ubyte.gz\n"
          ]
        },
        {
          "output_type": "stream",
          "name": "stderr",
          "text": [
            "100%|██████████| 28881/28881 [00:00<00:00, 1351568.67it/s]\n"
          ]
        },
        {
          "output_type": "stream",
          "name": "stdout",
          "text": [
            "Extracting ./data/MNIST/raw/train-labels-idx1-ubyte.gz to ./data/MNIST/raw\n",
            "\n",
            "Downloading http://yann.lecun.com/exdb/mnist/t10k-images-idx3-ubyte.gz\n",
            "Failed to download (trying next):\n",
            "HTTP Error 403: Forbidden\n",
            "\n",
            "Downloading https://ossci-datasets.s3.amazonaws.com/mnist/t10k-images-idx3-ubyte.gz\n",
            "Downloading https://ossci-datasets.s3.amazonaws.com/mnist/t10k-images-idx3-ubyte.gz to ./data/MNIST/raw/t10k-images-idx3-ubyte.gz\n"
          ]
        },
        {
          "output_type": "stream",
          "name": "stderr",
          "text": [
            "100%|██████████| 1648877/1648877 [00:00<00:00, 8712297.43it/s]\n"
          ]
        },
        {
          "output_type": "stream",
          "name": "stdout",
          "text": [
            "Extracting ./data/MNIST/raw/t10k-images-idx3-ubyte.gz to ./data/MNIST/raw\n",
            "\n",
            "Downloading http://yann.lecun.com/exdb/mnist/t10k-labels-idx1-ubyte.gz\n",
            "Failed to download (trying next):\n",
            "HTTP Error 403: Forbidden\n",
            "\n",
            "Downloading https://ossci-datasets.s3.amazonaws.com/mnist/t10k-labels-idx1-ubyte.gz\n",
            "Downloading https://ossci-datasets.s3.amazonaws.com/mnist/t10k-labels-idx1-ubyte.gz to ./data/MNIST/raw/t10k-labels-idx1-ubyte.gz\n"
          ]
        },
        {
          "output_type": "stream",
          "name": "stderr",
          "text": [
            "100%|██████████| 4542/4542 [00:00<00:00, 6968006.13it/s]"
          ]
        },
        {
          "output_type": "stream",
          "name": "stdout",
          "text": [
            "Extracting ./data/MNIST/raw/t10k-labels-idx1-ubyte.gz to ./data/MNIST/raw\n",
            "\n"
          ]
        },
        {
          "output_type": "stream",
          "name": "stderr",
          "text": [
            "\n"
          ]
        }
      ]
    },
    {
      "cell_type": "code",
      "source": [
        "class Net(nn.Module):\n",
        "    def __init__(self):\n",
        "        super(Net, self).__init__()\n",
        "        self.fc1 = nn.Linear(28 * 28, 512)\n",
        "        self.fc2 = nn.Linear(512, 256)\n",
        "        self.fc3 = nn.Linear(256, 10)\n",
        "\n",
        "    def forward(self, x):\n",
        "        x = x.view(-1, 28 * 28)\n",
        "        x = F.relu(self.fc1(x))\n",
        "        x = F.relu(self.fc2(x))\n",
        "        x = self.fc3(x)\n",
        "        return F.log_softmax(x, dim=1)\n",
        "\n",
        "model = Net()\n"
      ],
      "metadata": {
        "id": "SciQpTuhx4uE"
      },
      "execution_count": 6,
      "outputs": []
    },
    {
      "cell_type": "code",
      "source": [
        "criterion = nn.CrossEntropyLoss()\n",
        "optimizer = optim.SGD(model.parameters(), lr=learning_rate)\n"
      ],
      "metadata": {
        "id": "2ZdvPRtxx7-w"
      },
      "execution_count": 7,
      "outputs": []
    },
    {
      "cell_type": "code",
      "source": [
        "for epoch in range(num_epochs):\n",
        "    model.train()\n",
        "    for batch_idx, (data, target) in enumerate(train_loader):\n",
        "        optimizer.zero_grad()\n",
        "        output = model(data)\n",
        "        loss = criterion(output, target)\n",
        "        loss.backward()\n",
        "        optimizer.step()\n",
        "\n",
        "        if batch_idx % 100 == 0:\n",
        "            print(f'Epoch {epoch + 1}/{num_epochs}, Batch {batch_idx}, Loss: {loss.item():.6f}')\n"
      ],
      "metadata": {
        "colab": {
          "base_uri": "https://localhost:8080/"
        },
        "id": "GXepy6qxx9c0",
        "outputId": "0ac4c3fa-e1b6-4b12-d7e9-0c96d2625d03"
      },
      "execution_count": 8,
      "outputs": [
        {
          "output_type": "stream",
          "name": "stdout",
          "text": [
            "Epoch 1/10, Batch 0, Loss: 2.304946\n",
            "Epoch 1/10, Batch 100, Loss: 1.742542\n",
            "Epoch 1/10, Batch 200, Loss: 0.987824\n",
            "Epoch 1/10, Batch 300, Loss: 0.558010\n",
            "Epoch 1/10, Batch 400, Loss: 0.571183\n",
            "Epoch 1/10, Batch 500, Loss: 0.357661\n",
            "Epoch 1/10, Batch 600, Loss: 0.272797\n",
            "Epoch 1/10, Batch 700, Loss: 0.368547\n",
            "Epoch 1/10, Batch 800, Loss: 0.353420\n",
            "Epoch 1/10, Batch 900, Loss: 0.417591\n",
            "Epoch 2/10, Batch 0, Loss: 0.255693\n",
            "Epoch 2/10, Batch 100, Loss: 0.285045\n",
            "Epoch 2/10, Batch 200, Loss: 0.409404\n",
            "Epoch 2/10, Batch 300, Loss: 0.284360\n",
            "Epoch 2/10, Batch 400, Loss: 0.170862\n",
            "Epoch 2/10, Batch 500, Loss: 0.267882\n",
            "Epoch 2/10, Batch 600, Loss: 0.313855\n",
            "Epoch 2/10, Batch 700, Loss: 0.282081\n",
            "Epoch 2/10, Batch 800, Loss: 0.157371\n",
            "Epoch 2/10, Batch 900, Loss: 0.296097\n",
            "Epoch 3/10, Batch 0, Loss: 0.243297\n",
            "Epoch 3/10, Batch 100, Loss: 0.140621\n",
            "Epoch 3/10, Batch 200, Loss: 0.203415\n",
            "Epoch 3/10, Batch 300, Loss: 0.346866\n",
            "Epoch 3/10, Batch 400, Loss: 0.231408\n",
            "Epoch 3/10, Batch 500, Loss: 0.197203\n",
            "Epoch 3/10, Batch 600, Loss: 0.128880\n",
            "Epoch 3/10, Batch 700, Loss: 0.116228\n",
            "Epoch 3/10, Batch 800, Loss: 0.237349\n",
            "Epoch 3/10, Batch 900, Loss: 0.223173\n",
            "Epoch 4/10, Batch 0, Loss: 0.138348\n",
            "Epoch 4/10, Batch 100, Loss: 0.132285\n",
            "Epoch 4/10, Batch 200, Loss: 0.131563\n",
            "Epoch 4/10, Batch 300, Loss: 0.400917\n",
            "Epoch 4/10, Batch 400, Loss: 0.340542\n",
            "Epoch 4/10, Batch 500, Loss: 0.458293\n",
            "Epoch 4/10, Batch 600, Loss: 0.148110\n",
            "Epoch 4/10, Batch 700, Loss: 0.539425\n",
            "Epoch 4/10, Batch 800, Loss: 0.272130\n",
            "Epoch 4/10, Batch 900, Loss: 0.256306\n",
            "Epoch 5/10, Batch 0, Loss: 0.181229\n",
            "Epoch 5/10, Batch 100, Loss: 0.207623\n",
            "Epoch 5/10, Batch 200, Loss: 0.079986\n",
            "Epoch 5/10, Batch 300, Loss: 0.069879\n",
            "Epoch 5/10, Batch 400, Loss: 0.101606\n",
            "Epoch 5/10, Batch 500, Loss: 0.177416\n",
            "Epoch 5/10, Batch 600, Loss: 0.196100\n",
            "Epoch 5/10, Batch 700, Loss: 0.048869\n",
            "Epoch 5/10, Batch 800, Loss: 0.247816\n",
            "Epoch 5/10, Batch 900, Loss: 0.130832\n",
            "Epoch 6/10, Batch 0, Loss: 0.313360\n",
            "Epoch 6/10, Batch 100, Loss: 0.096559\n",
            "Epoch 6/10, Batch 200, Loss: 0.149643\n",
            "Epoch 6/10, Batch 300, Loss: 0.162874\n",
            "Epoch 6/10, Batch 400, Loss: 0.152828\n",
            "Epoch 6/10, Batch 500, Loss: 0.123906\n",
            "Epoch 6/10, Batch 600, Loss: 0.147226\n",
            "Epoch 6/10, Batch 700, Loss: 0.094099\n",
            "Epoch 6/10, Batch 800, Loss: 0.209700\n",
            "Epoch 6/10, Batch 900, Loss: 0.203543\n",
            "Epoch 7/10, Batch 0, Loss: 0.131819\n",
            "Epoch 7/10, Batch 100, Loss: 0.128509\n",
            "Epoch 7/10, Batch 200, Loss: 0.256959\n",
            "Epoch 7/10, Batch 300, Loss: 0.064602\n",
            "Epoch 7/10, Batch 400, Loss: 0.079699\n",
            "Epoch 7/10, Batch 500, Loss: 0.110067\n",
            "Epoch 7/10, Batch 600, Loss: 0.078143\n",
            "Epoch 7/10, Batch 700, Loss: 0.086314\n",
            "Epoch 7/10, Batch 800, Loss: 0.059023\n",
            "Epoch 7/10, Batch 900, Loss: 0.097237\n",
            "Epoch 8/10, Batch 0, Loss: 0.173098\n",
            "Epoch 8/10, Batch 100, Loss: 0.167814\n",
            "Epoch 8/10, Batch 200, Loss: 0.161293\n",
            "Epoch 8/10, Batch 300, Loss: 0.132461\n",
            "Epoch 8/10, Batch 400, Loss: 0.059333\n",
            "Epoch 8/10, Batch 500, Loss: 0.086721\n",
            "Epoch 8/10, Batch 600, Loss: 0.072560\n",
            "Epoch 8/10, Batch 700, Loss: 0.043527\n",
            "Epoch 8/10, Batch 800, Loss: 0.140550\n",
            "Epoch 8/10, Batch 900, Loss: 0.064173\n",
            "Epoch 9/10, Batch 0, Loss: 0.029804\n",
            "Epoch 9/10, Batch 100, Loss: 0.091225\n",
            "Epoch 9/10, Batch 200, Loss: 0.120943\n",
            "Epoch 9/10, Batch 300, Loss: 0.042166\n",
            "Epoch 9/10, Batch 400, Loss: 0.091024\n",
            "Epoch 9/10, Batch 500, Loss: 0.139051\n",
            "Epoch 9/10, Batch 600, Loss: 0.069024\n",
            "Epoch 9/10, Batch 700, Loss: 0.190008\n",
            "Epoch 9/10, Batch 800, Loss: 0.105224\n",
            "Epoch 9/10, Batch 900, Loss: 0.039485\n",
            "Epoch 10/10, Batch 0, Loss: 0.065535\n",
            "Epoch 10/10, Batch 100, Loss: 0.058254\n",
            "Epoch 10/10, Batch 200, Loss: 0.154341\n",
            "Epoch 10/10, Batch 300, Loss: 0.158620\n",
            "Epoch 10/10, Batch 400, Loss: 0.154308\n",
            "Epoch 10/10, Batch 500, Loss: 0.097176\n",
            "Epoch 10/10, Batch 600, Loss: 0.109880\n",
            "Epoch 10/10, Batch 700, Loss: 0.070365\n",
            "Epoch 10/10, Batch 800, Loss: 0.115416\n",
            "Epoch 10/10, Batch 900, Loss: 0.075019\n"
          ]
        }
      ]
    },
    {
      "cell_type": "code",
      "source": [
        "model.eval()\n",
        "correct = 0\n",
        "total = 0\n",
        "with torch.no_grad():\n",
        "    for data, target in test_loader:\n",
        "        output = model(data)\n",
        "        _, predicted = torch.max(output.data, 1)\n",
        "        total += target.size(0)\n",
        "        correct += (predicted == target).sum().item()\n",
        "\n",
        "print(f'Test Accuracy: {100 * correct / total:.2f}%')\n"
      ],
      "metadata": {
        "colab": {
          "base_uri": "https://localhost:8080/"
        },
        "id": "DxRw0P1Zx_12",
        "outputId": "70276ce4-834b-40df-ba4f-036165312d2d"
      },
      "execution_count": 9,
      "outputs": [
        {
          "output_type": "stream",
          "name": "stdout",
          "text": [
            "Test Accuracy: 96.72%\n"
          ]
        }
      ]
    },
    {
      "cell_type": "code",
      "source": [
        "torch.save(model.state_dict(), 'mnist_model.pth')\n"
      ],
      "metadata": {
        "id": "0gE5XaMRzC_T"
      },
      "execution_count": 10,
      "outputs": []
    },
    {
      "cell_type": "code",
      "source": [
        "import matplotlib.pyplot as plt\n",
        "# Visualize Predictions\n",
        "def visualize_predictions(model, test_loader):\n",
        "    model.eval()  # Set the model to evaluation mode\n",
        "    data_iter = iter(test_loader)\n",
        "    images, labels = next(data_iter)  # Get a batch of test images and labels\n",
        "\n",
        "    with torch.no_grad():\n",
        "        output = model(images)  # Get model predictions\n",
        "        _, preds = torch.max(output, 1)  # Get the index of the highest score\n",
        "\n",
        "    # Plot images with predicted and true labels\n",
        "    fig = plt.figure(figsize=(12, 12))\n",
        "    for idx in range(1, 10):  # Display the first 9 images\n",
        "        ax = fig.add_subplot(3, 3, idx)\n",
        "        ax.imshow(images[idx].numpy().squeeze(), cmap='gray')\n",
        "        ax.set_title(f'Predicted: {preds[idx].item()}, True: {labels[idx].item()}')\n",
        "        ax.axis('off')\n",
        "    plt.show()\n",
        "\n",
        "# Call the function to visualize predictions\n",
        "visualize_predictions(model, test_loader)"
      ],
      "metadata": {
        "colab": {
          "base_uri": "https://localhost:8080/",
          "height": 983
        },
        "id": "u1syVCITzH0R",
        "outputId": "e68831c6-7ec0-4c01-c78a-b6b4f076b781"
      },
      "execution_count": 18,
      "outputs": [
        {
          "output_type": "display_data",
          "data": {
            "text/plain": [
              "<Figure size 1200x1200 with 9 Axes>"
            ],
            "image/png": "[encoded data removed]"
          },
          "metadata": {}
        }
      ]
    },
    {
      "cell_type": "code",
      "source": [],
      "metadata": {
        "id": "78MVR4QfzVPI"
      },
      "execution_count": null,
      "outputs": []
    }
  ]
}